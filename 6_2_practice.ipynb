{
  "nbformat": 4,
  "nbformat_minor": 0,
  "metadata": {
    "colab": {
      "name": "6/2 practice",
      "provenance": [],
      "include_colab_link": true
    },
    "kernelspec": {
      "name": "python3",
      "display_name": "Python 3"
    },
    "language_info": {
      "name": "python"
    }
  },
  "cells": [
    {
      "cell_type": "markdown",
      "metadata": {
        "id": "view-in-github",
        "colab_type": "text"
      },
      "source": [
        "<a href=\"https://colab.research.google.com/github/NustinJewman/PythonFFB/blob/main/6_2_practice.ipynb\" target=\"_parent\"><img src=\"https://colab.research.google.com/assets/colab-badge.svg\" alt=\"Open In Colab\"/></a>"
      ]
    },
    {
      "cell_type": "code",
      "source": [
        "list_obj = [1, 2, 3, 56, 12, 23, 34, 12, 89, 90, 345, 67, 56, 34]\n",
        "biggest = max(list_obj)\n",
        "smallest = min(list_obj)\n",
        "\n",
        "print(\"biggest is %s and smallest is %s\" (biggest,smallest))\n",
        "print(['biggest', 'smallest'])"
      ],
      "metadata": {
        "colab": {
          "base_uri": "https://localhost:8080/"
        },
        "id": "HOyCsLJz1lrA",
        "outputId": "4049b50a-921a-45a3-b76f-7f8c6deba0f7"
      },
      "execution_count": null,
      "outputs": [
        {
          "output_type": "stream",
          "name": "stdout",
          "text": [
            "['biggest', 'smallest']\n"
          ]
        }
      ]
    },
    {
      "cell_type": "code",
      "execution_count": null,
      "metadata": {
        "colab": {
          "base_uri": "https://localhost:8080/"
        },
        "id": "EYlz1y3musdx",
        "outputId": "ef72ee73-0c24-42df-e8b9-224d8fa46ef9"
      },
      "outputs": [
        {
          "output_type": "stream",
          "name": "stdout",
          "text": [
            "Red Black\n"
          ]
        }
      ],
      "source": [
        "color_list = [\"Red\",\"Green\",\"White\" ,\"Black\"]\n",
        "\n",
        "print(color_list[0],color_list[-1])\n"
      ]
    },
    {
      "cell_type": "code",
      "source": [
        "#Tyler Lockett had the following stat line for 2019.\n",
        "\n",
        "#69 receptions, 82 targets, 1057 receiving yards, 8 receiving touchdowns\n",
        "\n",
        "#Using Python, print Lockett's catch rate and fantasy points scored for 2019\n",
        "\n",
        "catches = 69\n",
        "targets = 234\n",
        "rec_yds = 3345\n",
        "rec_tds = 24\n",
        "\n",
        "catch_rate = catches / targets \n",
        "\n",
        "print (catch_rate)\n",
        "\n"
      ],
      "metadata": {
        "colab": {
          "base_uri": "https://localhost:8080/"
        },
        "id": "lAOBEg5hwLcO",
        "outputId": "8a9fbc2e-a8fb-420f-fab8-f4b07b82f473"
      },
      "execution_count": null,
      "outputs": [
        {
          "output_type": "stream",
          "name": "stdout",
          "text": [
            "0.2948717948717949\n"
          ]
        }
      ]
    },
    {
      "cell_type": "code",
      "source": [
        ""
      ],
      "metadata": {
        "id": "cJOZQYHc0UNi"
      },
      "execution_count": null,
      "outputs": []
    }
  ]
}