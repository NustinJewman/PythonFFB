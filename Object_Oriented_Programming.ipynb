{
  "nbformat": 4,
  "nbformat_minor": 0,
  "metadata": {
    "colab": {
      "name": "Object Oriented Programming",
      "provenance": [],
      "authorship_tag": "ABX9TyN3luFAodQ915pfb6nuRsih",
      "include_colab_link": true
    },
    "kernelspec": {
      "name": "python3",
      "display_name": "Python 3"
    },
    "language_info": {
      "name": "python"
    }
  },
  "cells": [
    {
      "cell_type": "markdown",
      "metadata": {
        "id": "view-in-github",
        "colab_type": "text"
      },
      "source": [
        "<a href=\"https://colab.research.google.com/github/NustinJewman/PythonFFB/blob/main/Object_Oriented_Programming.ipynb\" target=\"_parent\"><img src=\"https://colab.research.google.com/assets/colab-badge.svg\" alt=\"Open In Colab\"/></a>"
      ]
    },
    {
      "cell_type": "code",
      "execution_count": null,
      "metadata": {
        "id": "f1JPlGrUlaz5"
      },
      "outputs": [],
      "source": [
        "players = [{\n",
        "   'name': 'Julio Jones',\n",
        "   'catches': 99,\n",
        "   'targets': 157\n",
        "   },\n",
        "   {\n",
        "   'name': 'Davante Adams',\n",
        "   'catches': 83,\n",
        "   'targets': 127\n",
        "   },\n",
        "   {\n",
        "   'name': 'Michael Thomas',\n",
        "   'catches': 149,\n",
        "   'targets': 185\n",
        "   },\n",
        "]\n",
        "\n",
        "def get_catch_rate(player):\n",
        "    if type(player) is not dict:\n",
        "       print('You need to pass in a dictionary!')\n",
        "       return\n",
        "    else:\n",
        "       pass\n",
        "\n",
        "    catches = player['catches']\n",
        "    targets = player['targets']\n",
        "\n",
        "    if catches > targets:\n",
        "       print('You can not have more catches than targets')\n",
        "       return\n",
        "    else:\n",
        "       pass\n",
        "\n",
        "    catch_rate = catches/targets\n",
        "\n",
        "    return catch_rate\n",
        "\n",
        "julio = players[0]\n",
        "julios_catch_rate = get_catch_rate(julio)\n",
        "print(julios_catch_rate)"
      ]
    }
  ]
}