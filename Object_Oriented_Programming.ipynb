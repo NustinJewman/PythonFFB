{
  "nbformat": 4,
  "nbformat_minor": 0,
  "metadata": {
    "colab": {
      "name": "Object Oriented Programming",
      "provenance": [],
      "authorship_tag": "ABX9TyNLPuxbCM+UYWSveV7E+4tD",
      "include_colab_link": true
    },
    "kernelspec": {
      "name": "python3",
      "display_name": "Python 3"
    },
    "language_info": {
      "name": "python"
    }
  },
  "cells": [
    {
      "cell_type": "markdown",
      "metadata": {
        "id": "view-in-github",
        "colab_type": "text"
      },
      "source": [
        "<a href=\"https://colab.research.google.com/github/NustinJewman/PythonFFB/blob/main/Object_Oriented_Programming.ipynb\" target=\"_parent\"><img src=\"https://colab.research.google.com/assets/colab-badge.svg\" alt=\"Open In Colab\"/></a>"
      ]
    },
    {
      "cell_type": "code",
      "execution_count": 4,
      "metadata": {
        "id": "f1JPlGrUlaz5"
      },
      "outputs": [],
      "source": [
        "class Player:\n",
        "\n",
        "  def __init__(self, name, pos, catches, targets):\n",
        "    self.name = name\n",
        "    self.pos = pos\n",
        "    self.catches = catches\n",
        "    self.targets = targets\n",
        "\n",
        "  def catch_rate(self):\n",
        "    return self.catches/self.targets\n",
        "  def yards_per_carry(self):\n",
        "    return self.rushing_yds/self.rushing_attempts\n",
        "  \n",
        "  def efficiency(self):\n",
        "    return {\n",
        "      'yards_per_carry': self.yards_per_carry(),\n",
        "      'catch_rate': self.catch_rate()\n",
        "    }\n",
        "    "
      ]
    }
  ]
}