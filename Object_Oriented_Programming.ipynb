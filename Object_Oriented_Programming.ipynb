{
  "nbformat": 4,
  "nbformat_minor": 0,
  "metadata": {
    "colab": {
      "name": "Object Oriented Programming",
      "provenance": [],
      "authorship_tag": "ABX9TyNTnSygj+707jJR3MUlGQ7z",
      "include_colab_link": true
    },
    "kernelspec": {
      "name": "python3",
      "display_name": "Python 3"
    },
    "language_info": {
      "name": "python"
    }
  },
  "cells": [
    {
      "cell_type": "markdown",
      "metadata": {
        "id": "view-in-github",
        "colab_type": "text"
      },
      "source": [
        "<a href=\"https://colab.research.google.com/github/NustinJewman/PythonFFB/blob/main/Object_Oriented_Programming.ipynb\" target=\"_parent\"><img src=\"https://colab.research.google.com/assets/colab-badge.svg\" alt=\"Open In Colab\"/></a>"
      ]
    },
    {
      "cell_type": "code",
      "execution_count": 2,
      "metadata": {
        "id": "f1JPlGrUlaz5",
        "outputId": "60e7427f-9262-41e2-a108-1398ab50ca15",
        "colab": {
          "base_uri": "https://localhost:8080/"
        }
      },
      "outputs": [
        {
          "output_type": "stream",
          "name": "stdout",
          "text": [
            "99\n",
            "0.6305732484076433\n",
            "-0.6666666666666666\n",
            "{'yards_per_carry': -0.6666666666666666, 'catch_rate': 0.6305732484076433}\n"
          ]
        }
      ],
      "source": [
        "class Player:\n",
        "\n",
        "  def __init__(self, name, pos, catches, targets, rushing_yds, rushing_attempts):\n",
        "    self.name = name\n",
        "    self.pos = pos\n",
        "    self.catches = catches\n",
        "    self.targets = targets\n",
        "    self.rushing_yds = rushing_yds\n",
        "    self.rushing_attempts = rushing_attempts\n",
        "\n",
        "  def catch_rate(self):\n",
        "    return self.catches/self.targets\n",
        "  def yards_per_carry(self):\n",
        "    return self.rushing_yds/self.rushing_attempts\n",
        "  \n",
        "  def efficiency(self):\n",
        "    return {\n",
        "      'yards_per_carry': self.yards_per_carry(),\n",
        "      'catch_rate': self.catch_rate()\n",
        "    }\n",
        "    \n",
        "julio = Player('Julio Jones', 'WR', 99, 157, -2, 3)\n",
        "\n",
        "print(julio.catches)\n",
        "print(julio.catch_rate())\n",
        "print(julio.yards_per_carry())\n",
        "print(julio.efficiency())"
      ]
    },
    {
      "cell_type": "code",
      "source": [
        "#practice problem\n"
      ],
      "metadata": {
        "id": "g7CvW3ewGlRq"
      },
      "execution_count": null,
      "outputs": []
    }
  ]
}