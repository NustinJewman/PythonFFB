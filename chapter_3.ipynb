{
  "nbformat": 4,
  "nbformat_minor": 0,
  "metadata": {
    "colab": {
      "name": "chapter 3.ipynb",
      "provenance": [],
      "authorship_tag": "ABX9TyMcZxh+QpYvq/nMWvfRa5KK",
      "include_colab_link": true
    },
    "kernelspec": {
      "name": "python3",
      "display_name": "Python 3"
    },
    "language_info": {
      "name": "python"
    }
  },
  "cells": [
    {
      "cell_type": "markdown",
      "metadata": {
        "id": "view-in-github",
        "colab_type": "text"
      },
      "source": [
        "<a href=\"https://colab.research.google.com/github/NustinJewman/PythonFFB/blob/main/chapter_3.ipynb\" target=\"_parent\"><img src=\"https://colab.research.google.com/assets/colab-badge.svg\" alt=\"Open In Colab\"/></a>"
      ]
    },
    {
      "cell_type": "code",
      "execution_count": 5,
      "metadata": {
        "colab": {
          "base_uri": "https://localhost:8080/",
          "height": 131
        },
        "id": "sswSH939Xwxs",
        "outputId": "5c401738-def6-42b9-8c0e-660ac78c8569"
      },
      "outputs": [
        {
          "output_type": "error",
          "ename": "SyntaxError",
          "evalue": "ignored",
          "traceback": [
            "\u001b[0;36m  File \u001b[0;32m\"<ipython-input-5-f81ed5a7f33a>\"\u001b[0;36m, line \u001b[0;32m37\u001b[0m\n\u001b[0;31m    print (fantasypts)\u001b[0m\n\u001b[0m                      ^\u001b[0m\n\u001b[0;31mSyntaxError\u001b[0m\u001b[0;31m:\u001b[0m unexpected EOF while parsing\n"
          ]
        }
      ],
      "source": [
        "#problem 2\n",
        "# fantasy pts calclutator\n",
        "fantasy_weights = {\n",
        "    'passing_yds': 0.04,\n",
        "    'passing_tds': 4,\n",
        "    'passing_int': -2,\n",
        "    'rushing_yds': 0.10,\n",
        "    'rushing_tds': 6,\n",
        "    'fumbles': -2,\n",
        "    'receiving_yds': 0.10,\n",
        "    'receptions': 1, # adjust for half PPR and standard\n",
        "    'receiving_td': 6\n",
        "}\n",
        "stats_dict = {\n",
        "  'passing_yds': 3400,\n",
        "  'passing_tds': 24,\n",
        "  'passing_int': 6,\n",
        "  'interceptions': -2,\n",
        "  'rushing_yds': 324,\n",
        "  'rushing_tds': 3,\n",
        "  'fumbles': 2,\n",
        "  'receiving_yds': 12,\n",
        "  'receptions': 1,\n",
        "  'receiving_td': 0\n",
        "}\n",
        "\n",
        "def fantasypts(player):\n",
        "  return (stats_dict['passing_yds']*fantasy_weights['passing_yds'] +\\\n",
        "#rushing\n",
        " 'rushing_yds' * .025 + 'rushing_tds' * 6 + ('fumbles' * 2)*-1 +\\\n",
        "#receiving\n",
        "  'receiving_yds' * .025 + 'receiving_tds' * 6 +\\\n",
        "#whole thing))\n",
        "  \n",
        "#passing\n",
        "\n",
        "\n",
        "print (fantasypts)"
      ]
    },
    {
      "cell_type": "code",
      "source": [
        ""
      ],
      "metadata": {
        "id": "PgmBBaiYmM0J"
      },
      "execution_count": null,
      "outputs": []
    },
    {
      "cell_type": "code",
      "source": [
        "#problem 2 solution\n",
        "\n",
        "\n",
        "lamar_jackson_stats = {\n",
        "      'passing_yds': 3127,\n",
        "      'passing_tds': 36,\n",
        "      'passing_int': 6,\n",
        "      'rushing_yds': 1206,\n",
        "      'rushing_tds': 7,\n",
        "      'fumbles': 8,\n",
        "      'receiving_yds': 0,\n",
        "      'receptions': 0,\n",
        "      'receiving_td': 0\n",
        "}\n",
        "\n",
        "fantasy_weights = {\n",
        "    'passing_yds': 0.04,\n",
        "    'passing_tds': 4,\n",
        "    'passing_int': -2,\n",
        "    'rushing_yds': 0.10,\n",
        "    'rushing_tds': 6,\n",
        "    'fumbles': -2,\n",
        "    'receiving_yds': 0.10,\n",
        "    'receptions': 1, # adjust for half PPR and standard\n",
        "    'receiving_td': 6\n",
        "}\n",
        "def compute_fantasy_points(stats_dict):\n",
        "\n",
        "    return (\n",
        "        stats_dict['passing_yds']*fantasy_weights['passing_yds'] + \\\n",
        "        stats_dict['passing_tds']*fantasy_weights['passing_tds'] + \\\n",
        "        stats_dict['passing_int']*fantasy_weights['passing_int'] + \\\n",
        "        stats_dict['rushing_yds']*fantasy_weights['rushing_yds'] + \\\n",
        "        stats_dict['rushing_tds']*fantasy_weights['rushing_tds'] + \\\n",
        "        stats_dict['fumbles']*fantasy_weights['fumbles'] + \\\n",
        "        stats_dict['receiving_yds']*fantasy_weights['receiving_yds'] + \\\n",
        "        stats_dict['receptions']*fantasy_weights['receptions']\n",
        "    )\n",
        "\n",
        "print('Lamar Jackson\\'s Fantasy Points scored for 2019:', compute_fantasy_points(lamar_jackson_stats))\n"
      ],
      "metadata": {
        "colab": {
          "base_uri": "https://localhost:8080/"
        },
        "id": "pBTkwdRScYxN",
        "outputId": "15be78ba-9f3e-4537-9fbc-d5be9d547b57"
      },
      "execution_count": null,
      "outputs": [
        {
          "output_type": "stream",
          "name": "stdout",
          "text": [
            "Lamar Jackson's Fantasy Points scored for 2019: 403.68\n"
          ]
        }
      ]
    },
    {
      "cell_type": "code",
      "source": [
        "#problem 3\n",
        "\n",
        "#calculate passer rating\n",
        "completions = \n",
        "yards = \n",
        "attempts =\n",
        "ints=\n",
        "td=\n",
        "\n"
      ],
      "metadata": {
        "id": "JlONYXYXmRT1"
      },
      "execution_count": null,
      "outputs": []
    },
    {
      "cell_type": "code",
      "source": [
        "#problem 1\n",
        "#Write a function that calculates standard deviation for any list of numbers.\n",
        "\n",
        "#Test it using any player's rushing yards for the 2019 season.\n",
        "\n",
        "#In the solution, I provide a way you can check your answer to make sure it is correct using one of Python's data science libraries - numpy"
      ],
      "metadata": {
        "id": "DQczpropb2PK"
      },
      "execution_count": null,
      "outputs": []
    },
    {
      "cell_type": "code",
      "source": [
        "#problem 4"
      ],
      "metadata": {
        "id": "tegtLcokcAme"
      },
      "execution_count": null,
      "outputs": []
    },
    {
      "cell_type": "code",
      "source": [
        "#problem 5"
      ],
      "metadata": {
        "id": "ZGoK5MOIcDh_"
      },
      "execution_count": null,
      "outputs": []
    }
  ]
}