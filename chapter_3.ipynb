{
  "nbformat": 4,
  "nbformat_minor": 0,
  "metadata": {
    "colab": {
      "name": "chapter 3.ipynb",
      "provenance": [],
      "authorship_tag": "ABX9TyN5DqdzYdoWq4tzPPqXWnqu",
      "include_colab_link": true
    },
    "kernelspec": {
      "name": "python3",
      "display_name": "Python 3"
    },
    "language_info": {
      "name": "python"
    }
  },
  "cells": [
    {
      "cell_type": "markdown",
      "metadata": {
        "id": "view-in-github",
        "colab_type": "text"
      },
      "source": [
        "<a href=\"https://colab.research.google.com/github/NustinJewman/PythonFFB/blob/main/chapter_3.ipynb\" target=\"_parent\"><img src=\"https://colab.research.google.com/assets/colab-badge.svg\" alt=\"Open In Colab\"/></a>"
      ]
    },
    {
      "cell_type": "code",
      "execution_count": null,
      "metadata": {
        "colab": {
          "base_uri": "https://localhost:8080/",
          "height": 131
        },
        "id": "sswSH939Xwxs",
        "outputId": "5c401738-def6-42b9-8c0e-660ac78c8569"
      },
      "outputs": [
        {
          "output_type": "error",
          "ename": "SyntaxError",
          "evalue": "ignored",
          "traceback": [
            "\u001b[0;36m  File \u001b[0;32m\"<ipython-input-5-f81ed5a7f33a>\"\u001b[0;36m, line \u001b[0;32m37\u001b[0m\n\u001b[0;31m    print (fantasypts)\u001b[0m\n\u001b[0m                      ^\u001b[0m\n\u001b[0;31mSyntaxError\u001b[0m\u001b[0;31m:\u001b[0m unexpected EOF while parsing\n"
          ]
        }
      ],
      "source": [
        "#problem 2\n",
        "# fantasy pts calclutator\n",
        "fantasy_weights = {\n",
        "    'passing_yds': 0.04,\n",
        "    'passing_tds': 4,\n",
        "    'passing_int': -2,\n",
        "    'rushing_yds': 0.10,\n",
        "    'rushing_tds': 6,\n",
        "    'fumbles': -2,\n",
        "    'receiving_yds': 0.10,\n",
        "    'receptions': 1, # adjust for half PPR and standard\n",
        "    'receiving_td': 6\n",
        "}\n",
        "stats_dict = {\n",
        "  'passing_yds': 3400,\n",
        "  'passing_tds': 24,\n",
        "  'passing_int': 6,\n",
        "  'interceptions': -2,\n",
        "  'rushing_yds': 324,\n",
        "  'rushing_tds': 3,\n",
        "  'fumbles': 2,\n",
        "  'receiving_yds': 12,\n",
        "  'receptions': 1,\n",
        "  'receiving_td': 0\n",
        "}\n",
        "\n",
        "def fantasypts(player):\n",
        "  return (stats_dict['passing_yds']*fantasy_weights['passing_yds'] +\\\n",
        "#rushing\n",
        " 'rushing_yds' * .025 + 'rushing_tds' * 6 + ('fumbles' * 2)*-1 +\\\n",
        "#receiving\n",
        "  'receiving_yds' * .025 + 'receiving_tds' * 6 +\\\n",
        "#whole thing))\n",
        "  \n",
        "#passing\n",
        "\n",
        "\n",
        "print (fantasypts)"
      ]
    },
    {
      "cell_type": "code",
      "source": [
        ""
      ],
      "metadata": {
        "id": "PgmBBaiYmM0J"
      },
      "execution_count": null,
      "outputs": []
    },
    {
      "cell_type": "code",
      "source": [
        "#problem 2 solution\n",
        "\n",
        "\n",
        "lamar_jackson_stats = {\n",
        "      'passing_yds': 3127,\n",
        "      'passing_tds': 36,\n",
        "      'passing_int': 6,\n",
        "      'rushing_yds': 1206,\n",
        "      'rushing_tds': 7,\n",
        "      'fumbles': 8,\n",
        "      'receiving_yds': 0,\n",
        "      'receptions': 0,\n",
        "      'receiving_td': 0\n",
        "}\n",
        "\n",
        "fantasy_weights = {\n",
        "    'passing_yds': 0.04,\n",
        "    'passing_tds': 4,\n",
        "    'passing_int': -2,\n",
        "    'rushing_yds': 0.10,\n",
        "    'rushing_tds': 6,\n",
        "    'fumbles': -2,\n",
        "    'receiving_yds': 0.10,\n",
        "    'receptions': 1, # adjust for half PPR and standard\n",
        "    'receiving_td': 6\n",
        "}\n",
        "def compute_fantasy_points(stats_dict):\n",
        "\n",
        "    return (\n",
        "        stats_dict['passing_yds']*fantasy_weights['passing_yds'] + \\\n",
        "        stats_dict['passing_tds']*fantasy_weights['passing_tds'] + \\\n",
        "        stats_dict['passing_int']*fantasy_weights['passing_int'] + \\\n",
        "        stats_dict['rushing_yds']*fantasy_weights['rushing_yds'] + \\\n",
        "        stats_dict['rushing_tds']*fantasy_weights['rushing_tds'] + \\\n",
        "        stats_dict['fumbles']*fantasy_weights['fumbles'] + \\\n",
        "        stats_dict['receiving_yds']*fantasy_weights['receiving_yds'] + \\\n",
        "        stats_dict['receptions']*fantasy_weights['receptions']\n",
        "    )\n",
        "\n",
        "print('Lamar Jackson\\'s Fantasy Points scored for 2019:', compute_fantasy_points(lamar_jackson_stats))\n"
      ],
      "metadata": {
        "colab": {
          "base_uri": "https://localhost:8080/"
        },
        "id": "pBTkwdRScYxN",
        "outputId": "15be78ba-9f3e-4537-9fbc-d5be9d547b57"
      },
      "execution_count": null,
      "outputs": [
        {
          "output_type": "stream",
          "name": "stdout",
          "text": [
            "Lamar Jackson's Fantasy Points scored for 2019: 403.68\n"
          ]
        }
      ]
    },
    {
      "cell_type": "code",
      "source": [
        "#problem 3\n",
        "\n",
        "#calculate passer rating\n",
        "\n",
        "\n",
        "\n",
        "player = 'Justin Newman'\n",
        "\n",
        "completions = 146\n",
        "attempts = 756\n",
        "yards = 3876\n",
        "touchdowns = 20\n",
        "interceptions = 9\n",
        "\n",
        "\n",
        "\n",
        "QBRating = ((((completions/attempts) - 0.3) * 5 + \\\n",
        "    ((yards/attempts)-3)*0.25 + \\\n",
        "    ((touchdowns/attempts)*20) + 2.375 - \\\n",
        "    ((interceptions/attempts) * 25)\\\n",
        ") / 6) *  100\n",
        "\n",
        "\n",
        "\n",
        "\n",
        "print('Josh allen had a passer rating of', QBRating)"
      ],
      "metadata": {
        "id": "JlONYXYXmRT1",
        "colab": {
          "base_uri": "https://localhost:8080/"
        },
        "outputId": "6bdba29a-b32e-4358-9eb4-613ba0c1bcce"
      },
      "execution_count": null,
      "outputs": [
        {
          "output_type": "stream",
          "name": "stdout",
          "text": [
            "Josh allen had a passer rating of 43.39726631393299\n"
          ]
        }
      ]
    },
    {
      "cell_type": "code",
      "source": [
        "#problem 1\n",
        "#Write a function that calculates standard deviation for any list of numbers.\n",
        "\n",
        "#Test it using any player's rushing yards for the 2019 season.\n",
        "\n",
        "#In the solution, I provide a way you can check your answer to make sure it is correct using one of Python's data science libraries - numpy\n",
        "\n",
        "yards_list = [123, 89, 54 ,95,78,89,131,112,152,114,101,48,134,128,136,37]\n",
        "\n",
        "average = sum(yards_list) / len(yards_list) \n",
        "#define rest of calculators? build the whole formula below?\n",
        "\n",
        "for p in yards_list:\n",
        "  print (p - average)"
      ],
      "metadata": {
        "id": "DQczpropb2PK",
        "colab": {
          "base_uri": "https://localhost:8080/"
        },
        "outputId": "0189ba1d-b824-4919-c4e5-35c17f732bc8"
      },
      "execution_count": null,
      "outputs": [
        {
          "output_type": "stream",
          "name": "stdout",
          "text": [
            "21.6875\n",
            "-12.3125\n",
            "-47.3125\n",
            "-6.3125\n",
            "-23.3125\n",
            "-12.3125\n",
            "29.6875\n",
            "10.6875\n",
            "50.6875\n",
            "12.6875\n",
            "-0.3125\n",
            "-53.3125\n",
            "32.6875\n",
            "26.6875\n",
            "34.6875\n",
            "-64.3125\n"
          ]
        }
      ]
    },
    {
      "cell_type": "code",
      "source": [
        "#problem 4\n",
        "#   \n",
        "def get_rushing_eff(luka_stats):\n",
        " yards_per_carry = luka_stats['rushing_yards'] / luka_stats['rushing_attempts']\n",
        " touchdowns_per_carry = luka_stats['rushing_touchdowns'] / luka_stats['rushing_attempts']\n",
        " return {'yards_per_carry': yards_per_carry,\n",
        "        'touchdowns_per_carry': touchdowns_per_carry}\n",
        "\n",
        "\n",
        "luka_stats = {\n",
        "        'rushing_yards': 1000,\n",
        "        'rushing_touchdowns': 12,\n",
        "        'rushing_attempts': 240\n",
        "    }\n",
        "\n",
        "\n",
        "\n",
        "print(\n",
        "    get_rushing_eff(luka_stats)\n",
        ")"
      ],
      "metadata": {
        "id": "tegtLcokcAme",
        "colab": {
          "base_uri": "https://localhost:8080/"
        },
        "outputId": "181fddd9-4adc-401b-f1b0-fc1d3e1be3e8"
      },
      "execution_count": null,
      "outputs": [
        {
          "output_type": "stream",
          "name": "stdout",
          "text": [
            "{'yards_per_carry': 4.166666666666667, 'touchdowns_per_carry': 0.05}\n"
          ]
        }
      ]
    },
    {
      "cell_type": "code",
      "source": [
        "#problem 5\n",
        "players = [\n",
        "            {\n",
        "                'pos': 'RB',\n",
        "                'pick': 90\n",
        "            },\n",
        "            {\n",
        "                'pos': 'RB',\n",
        "                'pick': 91\n",
        "            },\n",
        "            {\n",
        "                'pos': 'WR',\n",
        "                'pick': 92\n",
        "            },\n",
        "            {\n",
        "                'pos': 'TE',\n",
        "                'pick': 93\n",
        "            },\n",
        "            {\n",
        "                'pos': 'RB',\n",
        "                'pick': 94\n",
        "            },\n",
        "            {\n",
        "                'pos': 'RB',\n",
        "                'pick': 95\n",
        "            },\n",
        "            {\n",
        "                'pos': 'WR',\n",
        "                'pick': 96\n",
        "            },\n",
        "            {\n",
        "                'pos': 'RB',\n",
        "                'pick': 97\n",
        "            },\n",
        "            {\n",
        "                'pos': 'TE',\n",
        "                'pick': 98\n",
        "            },\n",
        "            {\n",
        "                'pos': 'RB',\n",
        "                'pick': 99\n",
        "            },\n",
        "            {\n",
        "                'pos': 'QB',\n",
        "                'pick': 100\n",
        "            },\n",
        "        ]\n",
        "\n",
        "replacement_players = {}\n",
        "\n",
        "for player in players:\n",
        "    position = player['pos']\n",
        "    replacement_players[position] = player['pick']\n",
        "\n",
        "print(replacement_players)"
      ],
      "metadata": {
        "id": "ZGoK5MOIcDh_",
        "outputId": "b154dbb9-f941-4bc7-c3c9-07a5155f9fff",
        "colab": {
          "base_uri": "https://localhost:8080/"
        }
      },
      "execution_count": 2,
      "outputs": [
        {
          "output_type": "stream",
          "name": "stdout",
          "text": [
            "{'RB': 99, 'WR': 96, 'TE': 98, 'QB': 100}\n"
          ]
        }
      ]
    }
  ]
}