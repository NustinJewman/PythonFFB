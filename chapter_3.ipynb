{
  "nbformat": 4,
  "nbformat_minor": 0,
  "metadata": {
    "colab": {
      "name": "chapter 3.ipynb",
      "provenance": [],
      "authorship_tag": "ABX9TyP2tav1OdHynXmuqSpqrG/e",
      "include_colab_link": true
    },
    "kernelspec": {
      "name": "python3",
      "display_name": "Python 3"
    },
    "language_info": {
      "name": "python"
    }
  },
  "cells": [
    {
      "cell_type": "markdown",
      "metadata": {
        "id": "view-in-github",
        "colab_type": "text"
      },
      "source": [
        "<a href=\"https://colab.research.google.com/github/NustinJewman/PythonFFB/blob/main/chapter_3.ipynb\" target=\"_parent\"><img src=\"https://colab.research.google.com/assets/colab-badge.svg\" alt=\"Open In Colab\"/></a>"
      ]
    },
    {
      "cell_type": "code",
      "execution_count": 34,
      "metadata": {
        "colab": {
          "base_uri": "https://localhost:8080/",
          "height": 130
        },
        "id": "sswSH939Xwxs",
        "outputId": "70e5e100-f317-4106-bd17-76c3d2cc04ab"
      },
      "outputs": [
        {
          "output_type": "error",
          "ename": "SyntaxError",
          "evalue": "ignored",
          "traceback": [
            "\u001b[0;36m  File \u001b[0;32m\"<ipython-input-34-98d82ee217ec>\"\u001b[0;36m, line \u001b[0;32m18\u001b[0m\n\u001b[0;31m    return (total_pts = (stats_dict['passing_yds']*fantasy_weights['passing_yds'] +#rushing\u001b[0m\n\u001b[0m                      ^\u001b[0m\n\u001b[0;31mSyntaxError\u001b[0m\u001b[0;31m:\u001b[0m invalid syntax\n"
          ]
        }
      ],
      "source": [
        "#problem 2\n",
        "# fantasy pts calclutator\n",
        "\n",
        "stats_dict = {\n",
        "  'passing_yds': 3400,\n",
        "  'passing_tds': 24,\n",
        "  'passing_int': 6,\n",
        "  'interceptions': -2,\n",
        "  'rushing_yds': 324,\n",
        "  'rushing_tds': 3,\n",
        "  'fumbles': 2,\n",
        "  'receiving_yds': 12,\n",
        "  'receptions': 1,\n",
        "  'receiving_td': 0\n",
        "}\n",
        "\n",
        "def fantasypts(player):\n",
        "  return (total_pts = (stats_dict['passing_yds']*fantasy_weights['passing_yds'] +\\\n",
        "#rushing\n",
        " 'rushing_yds' * .025 + 'rushing_tds' * 6 + ('fumbles' * 2)*-1 +\\\n",
        "#receiving\n",
        "  'receiving_yds' * .025 + 'receiving_tds' * 6 +\\\n",
        "#whole thing))\n",
        "  \n",
        "#passing\n",
        "\n",
        "\n",
        "\n",
        "  print(total_pts(player))"
      ]
    },
    {
      "cell_type": "code",
      "source": [
        "#problem 2\n",
        "\n",
        "\n",
        "lamar_jackson_stats = {\n",
        "      'passing_yds': 3127,\n",
        "      'passing_tds': 36,\n",
        "      'passing_int': 6,\n",
        "      'rushing_yds': 1206,\n",
        "      'rushing_tds': 7,\n",
        "      'fumbles': 8,\n",
        "      'receiving_yds': 0,\n",
        "      'receptions': 0,\n",
        "      'receiving_td': 0\n",
        "}\n",
        "\n",
        "fantasy_weights = {\n",
        "    'passing_yds': 0.04,\n",
        "    'passing_tds': 4,\n",
        "    'passing_int': -2,\n",
        "    'rushing_yds': 0.10,\n",
        "    'rushing_tds': 6,\n",
        "    'fumbles': -2,\n",
        "    'receiving_yds': 0.10,\n",
        "    'receptions': 1, # adjust for half PPR and standard\n",
        "    'receiving_td': 6\n",
        "}\n",
        "def compute_fantasy_points(stats_dict):\n",
        "    fantasy_points = sum(\n",
        "        [stats_dict[stat_category]*weight for stat_category, weight in fantasy_weights.items()]\n",
        "    )\n",
        "    return fantasy_points\n",
        "\n",
        "print('Lamar Jackson\\'s Fantasy Points scored for 2019:', compute_fantasy_points(lamar_jackson_stats))\n"
      ],
      "metadata": {
        "colab": {
          "base_uri": "https://localhost:8080/"
        },
        "id": "pBTkwdRScYxN",
        "outputId": "1552774b-b7ab-4728-f996-d191cbb039c5"
      },
      "execution_count": 20,
      "outputs": [
        {
          "output_type": "stream",
          "name": "stdout",
          "text": [
            "Lamar Jackson's Fantasy Points scored for 2019: 403.68\n"
          ]
        }
      ]
    }
  ]
}