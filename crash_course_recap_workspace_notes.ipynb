{
  "nbformat": 4,
  "nbformat_minor": 0,
  "metadata": {
    "colab": {
      "name": "crash course recap workspace/notes",
      "provenance": [],
      "collapsed_sections": [],
      "authorship_tag": "ABX9TyO9h3XgUf2Bj0YSWZ0rlsTg",
      "include_colab_link": true
    },
    "kernelspec": {
      "name": "python3",
      "display_name": "Python 3"
    },
    "language_info": {
      "name": "python"
    }
  },
  "cells": [
    {
      "cell_type": "markdown",
      "metadata": {
        "id": "view-in-github",
        "colab_type": "text"
      },
      "source": [
        "<a href=\"https://colab.research.google.com/github/NustinJewman/PythonFFB/blob/main/crash_course_recap_workspace_notes.ipynb\" target=\"_parent\"><img src=\"https://colab.research.google.com/assets/colab-badge.svg\" alt=\"Open In Colab\"/></a>"
      ]
    },
    {
      "cell_type": "code",
      "execution_count": 6,
      "metadata": {
        "colab": {
          "base_uri": "https://localhost:8080/"
        },
        "id": "TbG33IHdvSwf",
        "outputId": "1b378730-ec1d-42e9-b07c-ea2c5fa49506"
      },
      "outputs": [
        {
          "output_type": "execute_result",
          "data": {
            "text/plain": [
              "['Lamar', 'Jackson', ',', 'left', 'end,', 'for', '10', 'yards']"
            ]
          },
          "metadata": {},
          "execution_count": 6
        }
      ],
      "source": [
        "our_string = 'Lamar Jackson, left end, for 10 yards'\n",
        "our_string.split(' ')"
      ]
    },
    {
      "cell_type": "code",
      "source": [
        "' '.join(['Lamar', 'Jackson', 'left', 'end', 'for', '10', 'yards'])"
      ],
      "metadata": {
        "colab": {
          "base_uri": "https://localhost:8080/",
          "height": 35
        },
        "id": "v3bMp52UINvw",
        "outputId": "2dd82bcd-ad88-4fb3-8b1a-fee816183605"
      },
      "execution_count": 19,
      "outputs": [
        {
          "output_type": "execute_result",
          "data": {
            "text/plain": [
              "'Lamar Jackson left end for 10 yards'"
            ],
            "application/vnd.google.colaboratory.intrinsic+json": {
              "type": "string"
            }
          },
          "metadata": {},
          "execution_count": 19
        }
      ]
    },
    {
      "cell_type": "code",
      "source": [
        "'Lamar Jackson left end for 10 yards'.split()\n"
      ],
      "metadata": {
        "colab": {
          "base_uri": "https://localhost:8080/"
        },
        "id": "ntksuy3iaIFZ",
        "outputId": "a9f0176f-7cf2-4170-e737-2fee6396781f"
      },
      "execution_count": 21,
      "outputs": [
        {
          "output_type": "execute_result",
          "data": {
            "text/plain": [
              "['Lamar', 'Jackson', 'left', 'end', 'for', '10', 'yards']"
            ]
          },
          "metadata": {},
          "execution_count": 21
        }
      ]
    },
    {
      "cell_type": "code",
      "source": [
        "first_name = 'Lamar'\n",
        "last_name = 'Jackson'\n",
        "\n",
        "f'{first_name} {last_name} left end for 10 yards'"
      ],
      "metadata": {
        "colab": {
          "base_uri": "https://localhost:8080/",
          "height": 35
        },
        "id": "o_d7B84naL8O",
        "outputId": "2ab6947c-128c-4211-f473-26d42f53f869"
      },
      "execution_count": 25,
      "outputs": [
        {
          "output_type": "execute_result",
          "data": {
            "text/plain": [
              "'Lamar Jackson left end for 10 yards'"
            ],
            "application/vnd.google.colaboratory.intrinsic+json": {
              "type": "string"
            }
          },
          "metadata": {},
          "execution_count": 25
        }
      ]
    },
    {
      "cell_type": "code",
      "source": [
        "player = {\n",
        " 'name': 'Michael Thomas',\n",
        " 'catches': 0\n",
        "}\n",
        "\n",
        "yds = player.get('yds', 50)\n",
        "catches = player.get('catches', 50)\n",
        "\n",
        "yds, catches"
      ],
      "metadata": {
        "colab": {
          "base_uri": "https://localhost:8080/"
        },
        "id": "eka-cfhy9_k4",
        "outputId": "5c68f15b-354a-49f8-f691-09ae3dbfa858"
      },
      "execution_count": 38,
      "outputs": [
        {
          "output_type": "execute_result",
          "data": {
            "text/plain": [
              "(50, 0)"
            ]
          },
          "metadata": {},
          "execution_count": 38
        }
      ]
    }
  ]
}