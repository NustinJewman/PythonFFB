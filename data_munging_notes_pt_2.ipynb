{
  "nbformat": 4,
  "nbformat_minor": 0,
  "metadata": {
    "colab": {
      "name": "data munging notes pt 2.ipynb",
      "provenance": [],
      "authorship_tag": "ABX9TyOtwL/zOsnSs0FasI0KHRfE",
      "include_colab_link": true
    },
    "kernelspec": {
      "name": "python3",
      "display_name": "Python 3"
    },
    "language_info": {
      "name": "python"
    }
  },
  "cells": [
    {
      "cell_type": "markdown",
      "metadata": {
        "id": "view-in-github",
        "colab_type": "text"
      },
      "source": [
        "<a href=\"https://colab.research.google.com/github/NustinJewman/PythonFFB/blob/main/data_munging_notes_pt_2.ipynb\" target=\"_parent\"><img src=\"https://colab.research.google.com/assets/colab-badge.svg\" alt=\"Open In Colab\"/></a>"
      ]
    },
    {
      "cell_type": "code",
      "execution_count": null,
      "metadata": {
        "id": "z1x_XzD5YjIp"
      },
      "outputs": [],
      "source": [
        "import pandas as pd\n",
        "df = pd.read_csv('https://raw.githubusercontent.com/fantasydatapros/data/74b84c5fb2371b954b52b4f67ae5220930d57861/fantasypros/fp_projections.csv')"
      ]
    },
    {
      "cell_type": "code",
      "source": [
        "rb_df = df.loc[df['Pos'] == 'WR']\n",
        "rb_df.head()\n",
        "df.sort_values(by='ReceivingYds', ascending=False).head(10)"
      ],
      "metadata": {
        "id": "i09vR0eTh6Ol"
      },
      "execution_count": null,
      "outputs": []
    }
  ]
}