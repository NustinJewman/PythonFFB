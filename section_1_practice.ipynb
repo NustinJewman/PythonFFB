{
  "nbformat": 4,
  "nbformat_minor": 0,
  "metadata": {
    "colab": {
      "name": "section 1 practice",
      "provenance": [],
      "collapsed_sections": [],
      "authorship_tag": "ABX9TyNZ7deqH9y4ZV6J3N7P/oZR",
      "include_colab_link": true
    },
    "kernelspec": {
      "name": "python3",
      "display_name": "Python 3"
    },
    "language_info": {
      "name": "python"
    }
  },
  "cells": [
    {
      "cell_type": "markdown",
      "metadata": {
        "id": "view-in-github",
        "colab_type": "text"
      },
      "source": [
        "<a href=\"https://colab.research.google.com/github/NustinJewman/PythonFFB/blob/main/section_1_practice.ipynb\" target=\"_parent\"><img src=\"https://colab.research.google.com/assets/colab-badge.svg\" alt=\"Open In Colab\"/></a>"
      ]
    },
    {
      "cell_type": "code",
      "source": [
        "   #practice problem 1\n",
        "receptions = 69\n",
        "targets = 82\n",
        "yards = 1057\n",
        "tds = 8\n",
        "\n",
        "catch_rate = round(receptions/targets, 2)\n",
        "\n",
        "fantasy_points = receptions + yards*0.1 + tds*6\n",
        "\n",
        "print('Tyler Lockett\\'s catch rate was:', catch_rate)\n",
        "print('Tyler Lockett\\'s fantasy points scored was:', fantasy_points)"
      ],
      "metadata": {
        "colab": {
          "base_uri": "https://localhost:8080/"
        },
        "id": "dNKjUIDcEjaY",
        "outputId": "70fa31d5-323e-4b24-f8bd-c915f0f2adea"
      },
      "execution_count": 49,
      "outputs": [
        {
          "output_type": "stream",
          "name": "stdout",
          "text": [
            "Tyler Lockett's catch rate was: 0.84\n",
            "Tyler Lockett's fantasy points scored was: 222.7\n"
          ]
        }
      ]
    },
    {
      "cell_type": "code",
      "source": [
        "#practice problem 2\n",
        "# Input each weeks receiving yards in to a ordered list, and find the average of the list using Python's built in functions len and sum. Both of these functions can be found in the Python docs.\n",
        "#Print out MT's average receiving yards for 2019 using the print function. SOLVED\n",
        "\n",
        "yards = 1725\n",
        "\n",
        "yards_list = [123, 89, 54 ,95,182,89,131,112,152,114,101,48,134,128,136,37]\n",
        "\n",
        "average = sum(yards_list) / len(yards_list)\n",
        "\n",
        "print (average)\n",
        "\n"
      ],
      "metadata": {
        "colab": {
          "base_uri": "https://localhost:8080/"
        },
        "id": "xdJphLVsG7qR",
        "outputId": "56d9c363-12ab-4260-9048-b968d3f877fb"
      },
      "execution_count": 56,
      "outputs": [
        {
          "output_type": "stream",
          "name": "stdout",
          "text": [
            "107.8125\n"
          ]
        }
      ]
    },
    {
      "cell_type": "code",
      "source": [
        "#practice problem 3 (very hard. not done)\n",
        "#Using the list above, find the standard deviation of Michael Thomas's receiving yards. \n",
        "#This is how you calculate the standard deviation: For each element in the list, subtract away the mean of the list, and square the difference for each of these intermediary calculations. Set these numbers to the side. \n",
        "#Once you are finish iterating this operation, sum up all of the results, and divide by the length of the list (the number of observations). \n",
        "#Finally, take the square root of that number (that number is actually the variance). This is your standard deviation.\n",
        "\n",
        "yards_list = [123, 89, 54 ,95,182,89,131,112,152,114,101,48,134,128,136,37]\n",
        "\n",
        "average = sum(yards_list) / len(yards_list) \n",
        "#define rest of calculators? build the whole formula below?\n",
        "\n",
        "for p in yards_list:\n",
        "  print (p - average)\n",
        "\n",
        "\n",
        "\n",
        "\n",
        "\n"
      ],
      "metadata": {
        "colab": {
          "base_uri": "https://localhost:8080/"
        },
        "id": "JbCUFTpuNdKg",
        "outputId": "a7b4b168-6661-4511-b909-791ede40e735"
      },
      "execution_count": 68,
      "outputs": [
        {
          "output_type": "stream",
          "name": "stdout",
          "text": [
            "15.1875\n",
            "-18.8125\n",
            "-53.8125\n",
            "-12.8125\n",
            "74.1875\n",
            "-18.8125\n",
            "23.1875\n",
            "4.1875\n",
            "44.1875\n",
            "6.1875\n",
            "-6.8125\n",
            "-59.8125\n",
            "26.1875\n",
            "20.1875\n",
            "28.1875\n",
            "-70.8125\n"
          ]
        }
      ]
    },
    {
      "cell_type": "code",
      "source": [
        "my_var = 5 > 6\n",
        "print(my_var, type(my_var))\n",
        "\n",
        "\n"
      ],
      "metadata": {
        "id": "OmwXfBtBXMHq",
        "colab": {
          "base_uri": "https://localhost:8080/"
        },
        "outputId": "38666e0d-d4bd-406f-aa16-8009dfd746dc"
      },
      "execution_count": null,
      "outputs": [
        {
          "output_type": "stream",
          "name": "stdout",
          "text": [
            "False <class 'bool'>\n"
          ]
        }
      ]
    },
    {
      "cell_type": "code",
      "source": [
        "\n",
        "players = [{\n",
        "   'name': 'Julio Jones',\n",
        "   'catches': 99,\n",
        "   'targets': 157,\n",
        "   'yards' : 1000\n",
        "   },\n",
        "   {\n",
        "   'name': 'Davante Adams',\n",
        "   'catches': 83,\n",
        "   'targets': 127\n",
        "   },\n",
        "   {\n",
        "   'name': 'Michael Thomas',\n",
        "   'catches': 149,\n",
        "   'targets': 185\n",
        "   },\n",
        "    {\n",
        "   'name': 'Tyler Lockett',\n",
        "   'catches': 69,\n",
        "   'targets': 82,\n",
        "   'yards': 1057,\n",
        "   'tds': 8,\n",
        "   },]\n",
        "    catches = player['catches']\n",
        "    targets = player['targets']\n",
        "    yards = player['yards']\n",
        "    tds = player['tds']\n",
        "\n",
        "def fantasy_points (players):\n",
        "    if type(players) is not dict:\n",
        "       print('You need to pass in a dictionary!')\n",
        "       return\n",
        "    else:\n",
        "       pass\n",
        "\n",
        "fantasy_points = yards*.1 + catches + tds*6\n",
        " \n",
        "return fantasy_points (players)\n",
        "\n",
        "\n",
        "print fantasy_points (Tyler Lockett)\n"
      ],
      "metadata": {
        "colab": {
          "base_uri": "https://localhost:8080/",
          "height": 130
        },
        "id": "fhGTByxsjSwT",
        "outputId": "d5d8ed56-2c51-455f-81a2-ca58e11cb2be"
      },
      "execution_count": 38,
      "outputs": [
        {
          "output_type": "error",
          "ename": "IndentationError",
          "evalue": "ignored",
          "traceback": [
            "\u001b[0;36m  File \u001b[0;32m\"<ipython-input-38-be5de7b5ae5f>\"\u001b[0;36m, line \u001b[0;32m25\u001b[0m\n\u001b[0;31m    catches = player['catches']\u001b[0m\n\u001b[0m    ^\u001b[0m\n\u001b[0;31mIndentationError\u001b[0m\u001b[0;31m:\u001b[0m unexpected indent\n"
          ]
        }
      ]
    },
    {
      "cell_type": "code",
      "source": [
        "# Practice Problem 4\n",
        "\n",
        "#Using if statements, find whether or not Rashaad Penny is in the interquartile range for rushing yards (between 25th and 75th percentile), in the bottom 25th percentile, or in the top 75th percentile.\n",
        "\n",
        "#Rashaad Penny Rushing Yards: 370 yards\n",
        "#25th percentile (2019) for all RBs for Rushing Yards: 20 yards\n",
        "#75th percentile (2019) for all RBs for Rushing Yards: 465 yards\n",
        "\n",
        "Yards = 370\n",
        "\n",
        "if Yards < 20: print ('below 25th')\n",
        "if Yards > 465: print ('above 75th')\n",
        "else: print (\"interquartile\")\n",
        "\n"
      ],
      "metadata": {
        "colab": {
          "base_uri": "https://localhost:8080/"
        },
        "id": "lMO5_HVriFnK",
        "outputId": "ec0d7ead-9b79-4a94-d328-4a12f99d0800"
      },
      "execution_count": 73,
      "outputs": [
        {
          "output_type": "stream",
          "name": "stdout",
          "text": [
            "interquartile\n"
          ]
        }
      ]
    },
    {
      "cell_type": "code",
      "source": [
        "#practice problem 5\n",
        "#Write a program that calculates yards per carry for 3 three top running backs. \n",
        "#Store the player data in a list of dictionaries, where each dictionary corresponds to a separate player. \n",
        "#Iterate over each dictionary using a for loop.\n",
        "\n",
        "\n",
        "players = [\n",
        "           {\n",
        "   'name': 'Chris Johnson',\n",
        "   'carries': 305,\n",
        "   'yards' : 2400\n",
        "   },\n",
        "   {\n",
        "       'name': 'Kevin Smith',\n",
        "   'carries': 157,\n",
        "   'yards' : 1651,\n",
        "   },\n",
        "   {\n",
        "       'name': 'Adrian Peterson',\n",
        "   'carries': 200,\n",
        "   'yards' : 1702,\n",
        "   },\n",
        "]\n",
        "\n",
        "\n",
        "\n",
        "\n",
        "\n",
        "for p in players:\n",
        "  average = p ['yards'] / p ['carries']\n",
        "\n",
        "\n",
        "  print (average)\n",
        "\n"
      ],
      "metadata": {
        "colab": {
          "base_uri": "https://localhost:8080/"
        },
        "id": "qxQUHeastOOn",
        "outputId": "79fe0855-d183-4f02-8d80-9520c446c363"
      },
      "execution_count": 112,
      "outputs": [
        {
          "output_type": "stream",
          "name": "stdout",
          "text": [
            "7.868852459016393\n",
            "10.51592356687898\n",
            "8.51\n"
          ]
        }
      ]
    },
    {
      "cell_type": "code",
      "source": [
        ""
      ],
      "metadata": {
        "id": "IJhJtIT0tOUh"
      },
      "execution_count": null,
      "outputs": []
    },
    {
      "cell_type": "code",
      "source": [
        "our_list = [1, 2, 3, 4]\n",
        "first_element = our_list[0]\n",
        "second_element = our_list[1]\n",
        "last_element = our_list[-1]\n",
        "first_element = our_list[-4]\n",
        "\n",
        "first_element\n"
      ],
      "metadata": {
        "colab": {
          "base_uri": "https://localhost:8080/"
        },
        "id": "hrTz5ET-3Qok",
        "outputId": "1573785b-87ed-4806-9487-4c28f5975bd5"
      },
      "execution_count": null,
      "outputs": [
        {
          "output_type": "execute_result",
          "data": {
            "text/plain": [
              "1"
            ]
          },
          "metadata": {},
          "execution_count": 5
        }
      ]
    },
    {
      "cell_type": "code",
      "execution_count": 46,
      "metadata": {
        "colab": {
          "base_uri": "https://localhost:8080/",
          "height": 130
        },
        "id": "G1EG2E1f3ICw",
        "outputId": "e79ea777-dcdd-40ce-ad22-f5952ab87038"
      },
      "outputs": [
        {
          "output_type": "error",
          "ename": "IndentationError",
          "evalue": "ignored",
          "traceback": [
            "\u001b[0;36m  File \u001b[0;32m\"<ipython-input-46-43c5d6b204f9>\"\u001b[0;36m, line \u001b[0;32m42\u001b[0m\n\u001b[0;31m    else:\u001b[0m\n\u001b[0m         ^\u001b[0m\n\u001b[0;31mIndentationError\u001b[0m\u001b[0;31m:\u001b[0m unindent does not match any outer indentation level\n"
          ]
        }
      ],
      "source": [
        "#Oscrap notes and such\n",
        "\n",
        "'''Problem 1 (Easy)\n",
        "Tyler Lockett had the following stat line for 2019.\n",
        "\n",
        "69 receptions, 82 targets, 1057 receiving yards, 8 receiving touchdowns\n",
        "\n",
        "Using Python, print Lockett's catch rate and fantasy points scored for 2019.\n",
        "'''\n",
        "\n",
        "players = [{\n",
        "   'name': 'Julio Jones',\n",
        "   'catches': 99,\n",
        "   'targets': 157,\n",
        "   'yards' : 1000,\n",
        "   'tds': 8,\n",
        "   },\n",
        "   {\n",
        "   'name': 'Davante Adams',\n",
        "   'catches': 83,\n",
        "   'targets': 127,\n",
        "    'tds': 8\n",
        "   },\n",
        "   {\n",
        "   'name': 'Michael Thomas',\n",
        "   'catches': 149,\n",
        "   'targets': 185\n",
        "   },\n",
        "    {\n",
        "   'name': 'Tyler Lockett',\n",
        "   'catches': 69,\n",
        "   'targets': 82,\n",
        "   'yards': 1057,\n",
        "   'tds': 8\n",
        "   },\n",
        "]\n",
        " \n",
        "def get_fantasy_points(player):\n",
        " if type(player) is not dict:\n",
        "       print('You need to pass in a dictionary!')\n",
        "       return\n",
        "    else:\n",
        "       pass\n",
        "       \n",
        "    catches = player['catches']\n",
        "    targets = player['targets']\n",
        "    yards = player['yards']\n",
        "    tds = player['tds']\n",
        "\n",
        "    fantasy_points = catches + yards*.1 + tds\n",
        "\n",
        "def get_catch_rate(player):\n",
        "    if type(player) is not dict:\n",
        "       print('You need to pass in a dictionary!')\n",
        "       return\n",
        "    else:\n",
        "       pass\n",
        "\n",
        "    catches = player['catches']\n",
        "    targets = player['targets']\n",
        "    yards = player['yards']\n",
        "    tds = player['tds']\n",
        "\n",
        "    if catches > targets:\n",
        "       print('You can not have more catches than targets')\n",
        "       return\n",
        "    else:\n",
        "       pass\n",
        "\n",
        "    catch_rate = catches/targets\n",
        "\n",
        "    return catch_rate\n",
        "\n",
        "julio = players[0]\n",
        "julios_catch_rate = get_catch_rate(julio)\n",
        "\n",
        "\n",
        "\n"
      ]
    }
  ]
}