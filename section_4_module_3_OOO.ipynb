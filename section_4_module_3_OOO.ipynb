{
  "nbformat": 4,
  "nbformat_minor": 0,
  "metadata": {
    "colab": {
      "name": "section 4 module 3 OOO",
      "provenance": [],
      "collapsed_sections": [],
      "authorship_tag": "ABX9TyOrs1mYINCrQKpIHzMIQgtE",
      "include_colab_link": true
    },
    "kernelspec": {
      "name": "python3",
      "display_name": "Python 3"
    },
    "language_info": {
      "name": "python"
    }
  },
  "cells": [
    {
      "cell_type": "markdown",
      "metadata": {
        "id": "view-in-github",
        "colab_type": "text"
      },
      "source": [
        "<a href=\"https://colab.research.google.com/github/NustinJewman/PythonFFB/blob/main/section_4_module_3_OOO.ipynb\" target=\"_parent\"><img src=\"https://colab.research.google.com/assets/colab-badge.svg\" alt=\"Open In Colab\"/></a>"
      ]
    },
    {
      "cell_type": "code",
      "execution_count": 21,
      "metadata": {
        "id": "BB7hrxFUTu2E",
        "colab": {
          "base_uri": "https://localhost:8080/",
          "height": 130
        },
        "outputId": "b41ee27f-3e73-4b31-8150-da12efda5a68"
      },
      "outputs": [
        {
          "output_type": "error",
          "ename": "SyntaxError",
          "evalue": "ignored",
          "traceback": [
            "\u001b[0;36m  File \u001b[0;32m\"<ipython-input-21-93265bd69882>\"\u001b[0;36m, line \u001b[0;32m66\u001b[0m\n\u001b[0;31m    print fantasy_points('Aaron Jones')\u001b[0m\n\u001b[0m                       ^\u001b[0m\n\u001b[0;31mSyntaxError\u001b[0m\u001b[0;31m:\u001b[0m invalid syntax\n"
          ]
        }
      ],
      "source": [
        "# Problem 1 (Medium)\n",
        "# Write a class Player2019 with the following arguments to __init__:\n",
        "\n",
        "# passing_int, rushing_yds, rushing_tds, receiving_yds, receiving_td, passing_yds, passing_tds, fumbles, receptions\n",
        "# Save these arguments to a dictionary called self.fantasy_stats\n",
        "\n",
        "# And also create a method called fantasy_points that calculates Fantasy Points scored based off the attributes.\n",
        "\n",
        "# As an added bonus, utilize the @property decorator for accessing fantasy_points as a class attribute rather than a method call.\n",
        "\n",
        "# This part is optional, but find out more about @property here.\n",
        "class Player2019:\n",
        "  def __init__(self, name, position, passing_int, rushing_yds, rushing_tds, receiving_yds, receiving_td, passing_yds, passing_tds, fumbles, receptions):\n",
        "    self.name = name\n",
        "\n",
        "    self.position = position\n",
        "\n",
        "    self.passing_int = passing_int\n",
        "    self.rushing_yds = rushing_yds\n",
        "    self.rushing_tds = rushing_tds\n",
        "    self.receiving_yds = receiving_yds\n",
        "    self.receiving_td = receiving_td\n",
        "    self.passing_yds = passing_yds\n",
        "    self.passing_tds = passing_tds\n",
        "    self.fumbles = fumbles\n",
        "    self.receptions = receptions\n",
        "\n",
        "#stolen from ch 3 but should be same same\n",
        "fantasy_weights = {\n",
        "    'passing_yds': 0.04,\n",
        "    'passing_tds': 4,\n",
        "    'passing_int': -2,\n",
        "    'rushing_yds': 0.10,\n",
        "    'rushing_tds': 6,\n",
        "    'fumbles': -2,\n",
        "    'receiving_yds': 0.10,\n",
        "    'receptions': 1, # adjust for half PPR and standard\n",
        "    'receiving_td': 6\n",
        "}\n",
        "\n",
        "    #method needs to call weights * pts. julio.self?\n",
        "\n",
        "#stolen solution \n",
        "\n",
        "    \n",
        "    def fantasy_points(self):\n",
        "        return sum(\n",
        "            [self.fantasy_stats[stat_category]*weight for stat_category, weight in fantasy_weights.items()]\n",
        "        )\n",
        "\n",
        "\n",
        "player = Player2019(\n",
        "    name='Aaron Jones',\n",
        "    position='RB',\n",
        "    rushing_yds=1000,\n",
        "    rushing_tds=6,\n",
        "    receiving_yds=450,\n",
        "    receiving_tds=6,\n",
        "    receptions=45,\n",
        "    passing_yds=0,\n",
        "    passing_tds=0,\n",
        "    passing_int=0,\n",
        "    interceptions=0,\n",
        "    fumbles=4\n",
        ")\n",
        "\n",
        "print(player.fantasy_points)"
      ]
    },
    {
      "cell_type": "code",
      "source": [
        "fantasy_weights = {\n",
        "    'passing_yds': 0.04,\n",
        "    'passing_tds': 4,\n",
        "    'passing_int': -2,\n",
        "    'rushing_yds': 0.10,\n",
        "    'rushing_tds': 6,\n",
        "    'fumbles': -2,\n",
        "    'receiving_yds': 0.10,\n",
        "    'receptions': 1, # adjust for half PPR and standard\n",
        "    'receiving_tds': 6\n",
        "}\n",
        "\n",
        "class Player2019:\n",
        "\n",
        "    def __init__(self, name, position, rushing_yds, rushing_tds, receiving_yds, receiving_tds, receptions, passing_yds, passing_tds, passing_int, interceptions, fumbles):\n",
        "\n",
        "        self.name = name\n",
        "\n",
        "        self.position = position\n",
        "\n",
        "        self.fantasy_stats = {\n",
        "            'rushing_yds': rushing_yds,\n",
        "            'rushing_tds': rushing_tds,\n",
        "            'receiving_yds': receiving_yds,\n",
        "            'receiving_tds': receiving_tds,\n",
        "            'receptions': receptions,\n",
        "            'passing_yds': passing_yds,\n",
        "            'passing_tds': passing_tds,\n",
        "            'passing_int': passing_int,\n",
        "            'interceptions': interceptions,\n",
        "            'fumbles': fumbles,\n",
        "        }\n",
        "        \n",
        "\n",
        "    @property\n",
        "    def fantasy_points(self):\n",
        "        return sum(\n",
        "            [self.fantasy_stats[stat_category]*weight for stat_category, weight in fantasy_weights.items()]\n",
        "        )\n",
        "\n",
        "#these are made up player stats\n",
        "player = Player2019(\n",
        "    name='Aaron Jones',\n",
        "    position='RB',\n",
        "    rushing_yds=1000,\n",
        "    rushing_tds=6,\n",
        "    receiving_yds=450,\n",
        "    receiving_tds=6,\n",
        "    receptions=45,\n",
        "    passing_yds=0,\n",
        "    passing_tds=0,\n",
        "    passing_int=0,\n",
        "    interceptions=0,\n",
        "    fumbles=4\n",
        ")\n",
        "\n",
        "print(player.fantasy_points)"
      ],
      "metadata": {
        "colab": {
          "base_uri": "https://localhost:8080/"
        },
        "id": "j_JGfb4tIFej",
        "outputId": "13bb48b7-9ddc-4375-a63f-949b5cff1fe1"
      },
      "execution_count": null,
      "outputs": [
        {
          "output_type": "stream",
          "name": "stdout",
          "text": [
            "254.0\n"
          ]
        }
      ]
    },
    {
      "cell_type": "code",
      "source": [
        ""
      ],
      "metadata": {
        "colab": {
          "base_uri": "https://localhost:8080/"
        },
        "id": "M8Flc3oEPqYt",
        "outputId": "abaf726c-9c4a-449a-a67b-f835cdbe5248"
      },
      "execution_count": null,
      "outputs": [
        {
          "output_type": "stream",
          "name": "stdout",
          "text": [
            "254.0\n"
          ]
        }
      ]
    },
    {
      "cell_type": "code",
      "source": [
        "car = {\n",
        "  \"brand\": \"Ford\",\n",
        "  \"model\": \"Mustang\",\n",
        "  \"year\": 1964\n",
        "}\n",
        "\n",
        "x = car.items()\n",
        "\n",
        "print(x)"
      ],
      "metadata": {
        "colab": {
          "base_uri": "https://localhost:8080/"
        },
        "id": "NGH3L1ZXB9lq",
        "outputId": "22b3e3a2-8b56-40e3-db22-bef1f49f890e"
      },
      "execution_count": null,
      "outputs": [
        {
          "output_type": "stream",
          "name": "stdout",
          "text": [
            "dict_items([('brand', 'Ford'), ('model', 'Mustang'), ('year', 1964)])\n"
          ]
        }
      ]
    }
  ]
}