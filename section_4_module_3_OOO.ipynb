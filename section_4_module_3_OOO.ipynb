{
  "nbformat": 4,
  "nbformat_minor": 0,
  "metadata": {
    "colab": {
      "name": "section 4 module 3 OOO",
      "provenance": [],
      "authorship_tag": "ABX9TyP9y+Qko0rRJCxZlAJ1eUzL",
      "include_colab_link": true
    },
    "kernelspec": {
      "name": "python3",
      "display_name": "Python 3"
    },
    "language_info": {
      "name": "python"
    }
  },
  "cells": [
    {
      "cell_type": "markdown",
      "metadata": {
        "id": "view-in-github",
        "colab_type": "text"
      },
      "source": [
        "<a href=\"https://colab.research.google.com/github/NustinJewman/PythonFFB/blob/main/section_4_module_3_OOO.ipynb\" target=\"_parent\"><img src=\"https://colab.research.google.com/assets/colab-badge.svg\" alt=\"Open In Colab\"/></a>"
      ]
    },
    {
      "cell_type": "code",
      "execution_count": null,
      "metadata": {
        "id": "BB7hrxFUTu2E"
      },
      "outputs": [],
      "source": [
        "# Problem 1 (Medium)\n",
        "# Write a class Player2019 with the following arguments to __init__:\n",
        "\n",
        "# passing_int, rushing_yds, rushing_tds, receiving_yds, receiving_td, passing_yds, passing_tds, fumbles, receptions\n",
        "# Save these arguments to a dictionary called self.fantasy_stats\n",
        "\n",
        "# And also create a method called fantasy_points that calculates Fantasy Points scored based off the attributes.\n",
        "\n",
        "# As an added bonus, utilize the @property decorator for accessing fantasy_points as a class attribute rather than a method call.\n",
        "\n",
        "# This part is optional, but find out more about @property here.\n",
        "class Player2019:\n",
        "  def __init__(self, passing_int, rushing_yds, rushing_tds, receiving_yds, receiving_td, passing_yds, passing_tds, fumbles, receptions):\n",
        "    self.passing_int = passing_int\n",
        "    \n"
      ]
    }
  ]
}